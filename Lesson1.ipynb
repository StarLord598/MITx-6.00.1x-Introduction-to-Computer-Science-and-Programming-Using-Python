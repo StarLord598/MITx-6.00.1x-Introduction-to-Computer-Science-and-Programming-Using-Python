{
  "nbformat": 4,
  "nbformat_minor": 0,
  "metadata": {
    "colab": {
      "name": "Copy of Lesson1.ipynb",
      "provenance": [],
      "authorship_tag": "ABX9TyO3S5pdRlPWMn5AFlrEEbF7",
      "include_colab_link": true
    },
    "kernelspec": {
      "name": "python3",
      "display_name": "Python 3"
    },
    "language_info": {
      "name": "python"
    }
  },
  "cells": [
    {
      "cell_type": "markdown",
      "metadata": {
        "id": "view-in-github",
        "colab_type": "text"
      },
      "source": [
        "<a href=\"https://colab.research.google.com/github/StarLord598/MITx-6.00.1x-Introduction-to-Computer-Science-and-Programming-Using-Python/blob/main/Lesson1.ipynb\" target=\"_parent\"><img src=\"https://colab.research.google.com/assets/colab-badge.svg\" alt=\"Open In Colab\"/></a>"
      ]
    },
    {
      "cell_type": "markdown",
      "source": [
        "# This is a test file for lesson 1"
      ],
      "metadata": {
        "id": "zIAtV4lXD2R1"
      }
    }
  ]
}